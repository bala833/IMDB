{
 "cells": [
  {
   "cell_type": "code",
   "execution_count": 1,
   "metadata": {},
   "outputs": [],
   "source": [
    "import pandas as pd\n",
    "import numpy as np\n",
    "import matplotlib.pyplot as plt"
   ]
  },
  {
   "cell_type": "code",
   "execution_count": 33,
   "metadata": {},
   "outputs": [],
   "source": [
    "rng = pd.date_range(start = '2019/01/01', end = '2019/01/10')\n",
    "date = '2019/01/01'\n",
    "\n",
    "pro =['apple', 'mango', 'banana', 'pineapple', 'graps', 'guava', 'watermelon', 'chickoo', 'pomegranate', 'orange']\n",
    "ord1 = [1,2,3,4,5,6,7,8,9,10]\n",
    "pri = [100, 110, 120, 130, 140, 150, 160, 170, 180, 190]\n",
    "per = [2, 4, 8, 16, 32, 64, 128, 258, 516, 1032]\n",
    "ter = 'yes', 'yes', 'yes', 'yes', 'no', 'no', 'yes', 'yes', 'no', 'yes'\n",
    "df = pd.DataFrame({'date' : date,\n",
    "                       'fruits' : pro,\n",
    "                       'trend' : ter,\n",
    "                        'ranking' : ord1,\n",
    "                       'price': pri,\n",
    "                       'percentage' : per})"
   ]
  },
  {
   "cell_type": "code",
   "execution_count": 34,
   "metadata": {
    "scrolled": true
   },
   "outputs": [
    {
     "data": {
      "text/html": [
       "<div>\n",
       "<style scoped>\n",
       "    .dataframe tbody tr th:only-of-type {\n",
       "        vertical-align: middle;\n",
       "    }\n",
       "\n",
       "    .dataframe tbody tr th {\n",
       "        vertical-align: top;\n",
       "    }\n",
       "\n",
       "    .dataframe thead th {\n",
       "        text-align: right;\n",
       "    }\n",
       "</style>\n",
       "<table border=\"1\" class=\"dataframe\">\n",
       "  <thead>\n",
       "    <tr style=\"text-align: right;\">\n",
       "      <th></th>\n",
       "      <th>date</th>\n",
       "      <th>fruits</th>\n",
       "      <th>trend</th>\n",
       "      <th>ranking</th>\n",
       "      <th>price</th>\n",
       "      <th>percentage</th>\n",
       "    </tr>\n",
       "  </thead>\n",
       "  <tbody>\n",
       "    <tr>\n",
       "      <th>0</th>\n",
       "      <td>2019/01/01</td>\n",
       "      <td>apple</td>\n",
       "      <td>yes</td>\n",
       "      <td>1</td>\n",
       "      <td>100</td>\n",
       "      <td>2</td>\n",
       "    </tr>\n",
       "  </tbody>\n",
       "</table>\n",
       "</div>"
      ],
      "text/plain": [
       "         date fruits trend  ranking  price  percentage\n",
       "0  2019/01/01  apple   yes        1    100           2"
      ]
     },
     "execution_count": 34,
     "metadata": {},
     "output_type": "execute_result"
    }
   ],
   "source": [
    "df.head(1)"
   ]
  },
  {
   "cell_type": "markdown",
   "metadata": {},
   "source": [
    "## 1) THIS DATASET IS CROSS- SECTIATIONAL DATASET"
   ]
  },
  {
   "cell_type": "markdown",
   "metadata": {},
   "source": [
    "## 2) MONTHLY_ORDER, PRICE, PERCENTAGE ARE QUANTITATIVE DATA\n"
   ]
  },
  {
   "cell_type": "markdown",
   "metadata": {},
   "source": [
    "## 3) TREND IS QUALITATIVE DATA "
   ]
  },
  {
   "cell_type": "markdown",
   "metadata": {},
   "source": [
    "## 4) FRUITS IS NOMINAL COLUMN ACCORDING TO RANKING,  PRICE, PERCENTAGE"
   ]
  },
  {
   "cell_type": "markdown",
   "metadata": {},
   "source": [
    "## 5) ORDINAL DATASET ACCORDING TO FRUIT AND RANKING"
   ]
  },
  {
   "cell_type": "markdown",
   "metadata": {},
   "source": [
    "## 6) PRICE IS COUNTINUES DATA"
   ]
  },
  {
   "cell_type": "markdown",
   "metadata": {},
   "source": [
    "## 7) PERCENTAGE DISCREATE DATA"
   ]
  },
  {
   "cell_type": "markdown",
   "metadata": {},
   "source": [
    "## 8) PRICE IS INTERVAL DATA LIKE 100-110, 110-120 ......."
   ]
  },
  {
   "cell_type": "code",
   "execution_count": null,
   "metadata": {},
   "outputs": [],
   "source": []
  },
  {
   "cell_type": "code",
   "execution_count": null,
   "metadata": {},
   "outputs": [],
   "source": []
  },
  {
   "cell_type": "code",
   "execution_count": 35,
   "metadata": {},
   "outputs": [
    {
     "data": {
      "text/html": [
       "<div>\n",
       "<style scoped>\n",
       "    .dataframe tbody tr th:only-of-type {\n",
       "        vertical-align: middle;\n",
       "    }\n",
       "\n",
       "    .dataframe tbody tr th {\n",
       "        vertical-align: top;\n",
       "    }\n",
       "\n",
       "    .dataframe thead th {\n",
       "        text-align: right;\n",
       "    }\n",
       "</style>\n",
       "<table border=\"1\" class=\"dataframe\">\n",
       "  <thead>\n",
       "    <tr style=\"text-align: right;\">\n",
       "      <th></th>\n",
       "      <th>date</th>\n",
       "      <th>fruits</th>\n",
       "      <th>trend</th>\n",
       "      <th>ranking</th>\n",
       "      <th>price</th>\n",
       "      <th>percentage</th>\n",
       "    </tr>\n",
       "  </thead>\n",
       "  <tbody>\n",
       "    <tr>\n",
       "      <th>0</th>\n",
       "      <td>2019/01/01</td>\n",
       "      <td>apple</td>\n",
       "      <td>yes</td>\n",
       "      <td>1</td>\n",
       "      <td>100</td>\n",
       "      <td>2</td>\n",
       "    </tr>\n",
       "    <tr>\n",
       "      <th>1</th>\n",
       "      <td>2019/01/01</td>\n",
       "      <td>mango</td>\n",
       "      <td>yes</td>\n",
       "      <td>2</td>\n",
       "      <td>110</td>\n",
       "      <td>4</td>\n",
       "    </tr>\n",
       "    <tr>\n",
       "      <th>2</th>\n",
       "      <td>2019/01/01</td>\n",
       "      <td>banana</td>\n",
       "      <td>yes</td>\n",
       "      <td>3</td>\n",
       "      <td>120</td>\n",
       "      <td>8</td>\n",
       "    </tr>\n",
       "    <tr>\n",
       "      <th>3</th>\n",
       "      <td>2019/01/01</td>\n",
       "      <td>pineapple</td>\n",
       "      <td>yes</td>\n",
       "      <td>4</td>\n",
       "      <td>130</td>\n",
       "      <td>16</td>\n",
       "    </tr>\n",
       "    <tr>\n",
       "      <th>4</th>\n",
       "      <td>2019/01/01</td>\n",
       "      <td>graps</td>\n",
       "      <td>no</td>\n",
       "      <td>5</td>\n",
       "      <td>140</td>\n",
       "      <td>32</td>\n",
       "    </tr>\n",
       "    <tr>\n",
       "      <th>5</th>\n",
       "      <td>2019/01/01</td>\n",
       "      <td>guava</td>\n",
       "      <td>no</td>\n",
       "      <td>6</td>\n",
       "      <td>150</td>\n",
       "      <td>64</td>\n",
       "    </tr>\n",
       "    <tr>\n",
       "      <th>6</th>\n",
       "      <td>2019/01/01</td>\n",
       "      <td>watermelon</td>\n",
       "      <td>yes</td>\n",
       "      <td>7</td>\n",
       "      <td>160</td>\n",
       "      <td>128</td>\n",
       "    </tr>\n",
       "    <tr>\n",
       "      <th>7</th>\n",
       "      <td>2019/01/01</td>\n",
       "      <td>chickoo</td>\n",
       "      <td>yes</td>\n",
       "      <td>8</td>\n",
       "      <td>170</td>\n",
       "      <td>258</td>\n",
       "    </tr>\n",
       "    <tr>\n",
       "      <th>8</th>\n",
       "      <td>2019/01/01</td>\n",
       "      <td>pomegranate</td>\n",
       "      <td>no</td>\n",
       "      <td>9</td>\n",
       "      <td>180</td>\n",
       "      <td>516</td>\n",
       "    </tr>\n",
       "    <tr>\n",
       "      <th>9</th>\n",
       "      <td>2019/01/01</td>\n",
       "      <td>orange</td>\n",
       "      <td>yes</td>\n",
       "      <td>10</td>\n",
       "      <td>190</td>\n",
       "      <td>1032</td>\n",
       "    </tr>\n",
       "  </tbody>\n",
       "</table>\n",
       "</div>"
      ],
      "text/plain": [
       "         date       fruits trend  ranking  price  percentage\n",
       "0  2019/01/01        apple   yes        1    100           2\n",
       "1  2019/01/01        mango   yes        2    110           4\n",
       "2  2019/01/01       banana   yes        3    120           8\n",
       "3  2019/01/01    pineapple   yes        4    130          16\n",
       "4  2019/01/01        graps    no        5    140          32\n",
       "5  2019/01/01        guava    no        6    150          64\n",
       "6  2019/01/01   watermelon   yes        7    160         128\n",
       "7  2019/01/01      chickoo   yes        8    170         258\n",
       "8  2019/01/01  pomegranate    no        9    180         516\n",
       "9  2019/01/01       orange   yes       10    190        1032"
      ]
     },
     "execution_count": 35,
     "metadata": {},
     "output_type": "execute_result"
    }
   ],
   "source": [
    "df"
   ]
  },
  {
   "cell_type": "code",
   "execution_count": null,
   "metadata": {},
   "outputs": [],
   "source": []
  },
  {
   "cell_type": "code",
   "execution_count": null,
   "metadata": {},
   "outputs": [],
   "source": []
  },
  {
   "cell_type": "code",
   "execution_count": null,
   "metadata": {},
   "outputs": [],
   "source": []
  }
 ],
 "metadata": {
  "kernelspec": {
   "display_name": "Python 3",
   "language": "python",
   "name": "python3"
  },
  "language_info": {
   "codemirror_mode": {
    "name": "ipython",
    "version": 3
   },
   "file_extension": ".py",
   "mimetype": "text/x-python",
   "name": "python",
   "nbconvert_exporter": "python",
   "pygments_lexer": "ipython3",
   "version": "3.7.3"
  }
 },
 "nbformat": 4,
 "nbformat_minor": 2
}
